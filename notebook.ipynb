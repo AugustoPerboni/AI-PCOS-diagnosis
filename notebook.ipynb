{
 "cells": [
  {
   "cell_type": "code",
   "execution_count": 32,
   "metadata": {},
   "outputs": [],
   "source": [
    "from sklearn.model_selection import train_test_split\n",
    "import numpy as np\n",
    "import logistic_regression\n",
    "import matplotlib.pyplot as plt\n",
    "\n",
    "# Load the data grom the CSV file\n",
    "data = np.genfromtxt(\n",
    "    \"Data PCOS/data without infertility _final.csv\", delimiter=',', skip_header=1)\n",
    "\n",
    "# Exclude the first, second and last column\n",
    "data = np.delete(data, [0, 1, 42], 1)\n",
    "y = data[:, 0]\n",
    "X = data[:, 1:]\n",
    "\n",
    "# Remove nan values from the data\n",
    "y = y[np.squeeze(~np.isnan(X).any(axis=1))]\n",
    "X = X[~np.isnan(X).any(axis=1)]\n",
    "\n",
    "# Split the data in training set and data test\n",
    "X_train, X_test, y_train, y_test = train_test_split(\n",
    "    X, y, test_size=0.05, random_state=0)"
   ]
  },
  {
   "attachments": {},
   "cell_type": "markdown",
   "metadata": {},
   "source": [
    "**Load the data and split into train and text.**\n",
    "\n",
    "\n",
    "Now that the data is slited lets familiarized with our data"
   ]
  },
  {
   "cell_type": "code",
   "execution_count": 33,
   "metadata": {},
   "outputs": [
    {
     "name": "stdout",
     "output_type": "stream",
     "text": [
      "X_train shape: (511, 39)\n",
      "y_train shape: (511,)\n",
      "X_test shape: (27, 39)\n",
      "y_test shape: (27,)\n"
     ]
    }
   ],
   "source": [
    "print('X_train shape:', X_train.shape)\n",
    "print('y_train shape:', y_train.shape)\n",
    "print('X_test shape:', X_test.shape)\n",
    "print('y_test shape:', y_test.shape)"
   ]
  },
  {
   "attachments": {},
   "cell_type": "markdown",
   "metadata": {},
   "source": [
    "**Z-score normalization**"
   ]
  },
  {
   "cell_type": "code",
   "execution_count": 34,
   "metadata": {},
   "outputs": [],
   "source": [
    "train_mean = np.mean(X_train, axis=0)\n",
    "train_std = np.std(X_train, axis=0)\n",
    "X_train_norm = (X_train - train_mean) / train_std"
   ]
  },
  {
   "attachments": {},
   "cell_type": "markdown",
   "metadata": {},
   "source": [
    "Check the results of the normalization"
   ]
  },
  {
   "cell_type": "code",
   "execution_count": 35,
   "metadata": {},
   "outputs": [
    {
     "name": "stdout",
     "output_type": "stream",
     "text": [
      "Peak to peak data\n",
      "Raw: [2.80000000e+01 7.70000000e+01 4.30000000e+01 2.61215009e+01\n",
      " 7.00000000e+00 6.90000000e+01 1.20000000e+01 6.30000000e+00\n",
      " 3.00000000e+00 1.20000000e+01 3.00000000e+01 1.00000000e+00\n",
      " 5.00000000e+00 5.05179000e+03 2.01798000e+03 1.37282394e+03\n",
      " 2.20000000e+01 2.20000000e+01 2.21717171e-01 6.49600000e+01\n",
      " 6.59000000e+01 1.27840000e+02 6.01466000e+03 8.49530000e+01\n",
      " 2.90000000e+02 1.00000000e+00 1.00000000e+00 1.00000000e+00\n",
      " 1.00000000e+00 1.00000000e+00 1.00000000e+00 1.00000000e+00\n",
      " 1.28000000e+02 9.20000000e+01 2.20000000e+01 2.00000000e+01\n",
      " 2.40000000e+01 2.40000000e+01 1.80000000e+01] \n",
      "\n",
      " Normalized: [ 5.137385    6.97721659  7.04900627  6.45499404  3.77831408 15.3441847\n",
      "  7.04683294  7.25762205  3.33995647  7.95861767  6.19392827  2.05654202\n",
      "  7.11464589 22.64541357 22.65054583 22.00678711  5.53332867  6.13794258\n",
      "  4.80702084 17.10101034 11.16559471  8.72110547 16.9030697  21.70040794\n",
      " 15.50282314  2.07367511  2.24217718  2.17934723  2.01084504  2.00009575\n",
      "  2.00064752  2.3200923  17.14600559 16.36585094  5.22609741  4.52888912\n",
      "  6.79679403  7.21290129  8.26845273]\n"
     ]
    }
   ],
   "source": [
    "print('Peak to peak data')\n",
    "print('Raw:', np.ptp(X_train, axis=0),'\\n\\n Normalized:', np.ptp(X_train_norm, axis=0))"
   ]
  },
  {
   "attachments": {},
   "cell_type": "markdown",
   "metadata": {},
   "source": [
    "Lets apply the gradient descent in the data using all the parameter in the linear form"
   ]
  },
  {
   "cell_type": "code",
   "execution_count": 36,
   "metadata": {},
   "outputs": [
    {
     "name": "stdout",
     "output_type": "stream",
     "text": [
      "Iteration    0: Cost     0.60   \n",
      "Iteration   45: Cost     0.23   \n",
      "Iteration   90: Cost     0.21   \n",
      "Iteration  135: Cost     0.20   \n",
      "Iteration  180: Cost     0.19   \n",
      "Iteration  225: Cost     0.19   \n",
      "Iteration  270: Cost     0.19   \n",
      "Iteration  315: Cost     0.19   \n",
      "Iteration  360: Cost     0.19   \n",
      "Iteration  405: Cost     0.18   \n",
      "Iteration  449: Cost     0.18   \n"
     ]
    }
   ],
   "source": [
    "w, b, J_history, w_history = logistic_regression.gradient_descent(X_train_norm, y_train, np.zeros((39,)), 0, 0.2, 450 )"
   ]
  },
  {
   "attachments": {},
   "cell_type": "markdown",
   "metadata": {},
   "source": [
    "Vizualization of the cost function during the gradient descent computation"
   ]
  },
  {
   "cell_type": "code",
   "execution_count": 37,
   "metadata": {},
   "outputs": [
    {
     "data": {
      "text/plain": [
       "[<matplotlib.lines.Line2D at 0x7f2e8840fb90>]"
      ]
     },
     "execution_count": 37,
     "metadata": {},
     "output_type": "execute_result"
    },
    {
     "data": {
      "image/png": "[encoded data removed]",
      "text/plain": [
       "<Figure size 640x480 with 1 Axes>"
      ]
     },
     "metadata": {},
     "output_type": "display_data"
    }
   ],
   "source": [
    "fig, ax = plt.subplots()\n",
    "ax.plot(J_history)"
   ]
  },
  {
   "attachments": {},
   "cell_type": "markdown",
   "metadata": {},
   "source": [
    "Lets see the accurace of our prediction using this model"
   ]
  },
  {
   "cell_type": "code",
   "execution_count": 38,
   "metadata": {},
   "outputs": [
    {
     "name": "stdout",
     "output_type": "stream",
     "text": [
      "(27,) (27,)\n",
      "0.4444444444444444\n"
     ]
    }
   ],
   "source": [
    "# Normalize the test data\n",
    "y = (X_test - train_mean) / train_std\n",
    "\n",
    "f_wb, g = logistic_regression.predict(X_test, w, b)\n",
    "print(y_test.shape, f_wb.shape)\n",
    "accurace = np.mean(np.where(f_wb == y_test, 1, 0))\n",
    "print(accurace)"
   ]
  },
  {
   "attachments": {},
   "cell_type": "markdown",
   "metadata": {},
   "source": [
    "## Linear model with all the parameter **conclusion**\n",
    "As shown above, the model using all the parameters and just linear components have a low accurace of just 0.44, lets study the parameter to increase the prediction accurace.\n",
    "\n",
    "Lets see the features used in our prediction:"
   ]
  },
  {
   "cell_type": "code",
   "execution_count": 39,
   "metadata": {},
   "outputs": [
    {
     "name": "stdout",
     "output_type": "stream",
     "text": [
      "[nan nan nan nan nan nan nan nan nan nan nan nan nan nan nan nan nan nan\n",
      " nan nan nan nan nan nan nan nan nan nan nan nan nan nan nan nan nan nan\n",
      " nan nan nan nan]\n"
     ]
    }
   ],
   "source": [
    "print(header)"
   ]
  },
  {
   "cell_type": "code",
   "execution_count": null,
   "metadata": {},
   "outputs": [],
   "source": []
  }
 ],
 "metadata": {
  "kernelspec": {
   "display_name": "ML",
   "language": "python",
   "name": "python3"
  },
  "language_info": {
   "codemirror_mode": {
    "name": "ipython",
    "version": 3
   },
   "file_extension": ".py",
   "mimetype": "text/x-python",
   "name": "python",
   "nbconvert_exporter": "python",
   "pygments_lexer": "ipython3",
   "version": "3.11.0"
  },
  "orig_nbformat": 4
 },
 "nbformat": 4,
 "nbformat_minor": 2
}
