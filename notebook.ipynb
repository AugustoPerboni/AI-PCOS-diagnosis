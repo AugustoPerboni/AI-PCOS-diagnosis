{
 "cells": [
  {
   "cell_type": "code",
   "execution_count": 74,
   "metadata": {},
   "outputs": [],
   "source": [
    "from sklearn.model_selection import train_test_split\n",
    "import numpy as np\n",
    "import logistic_regression\n",
    "import matplotlib.pyplot as plt\n",
    "import pandas as pd\n",
    "\n",
    "# Loading data\n",
    "data = pd.read_csv(\"Data PCOS/data without infertility _final.csv\")\n",
    "\n",
    "# Create a data frame \n",
    "data = pd.DataFrame(data)\n",
    "del data[data.columns[-1]] # Removing last column (error)\n",
    "\n",
    "# Delete the identification columns\n",
    "header_raw = list(data)\n",
    "header_del_elements_1 = ['Sl. No', 'Patient File No.']\n",
    "data_model_1 = data.copy()\n",
    "data_model_1.drop(columns=header_del_elements_1, inplace=True)\n",
    "\n",
    "# Convert to numpy array\n",
    "data_model_1 = data_model_1.to_numpy()\n",
    "\n",
    "y_1 = data_model_1[:, 0]\n",
    "X_1 = data_model_1[:, 1:]\n",
    "\n",
    "# Remove nan values from the data\n",
    "y_1 = y_1[np.squeeze(~np.isnan(X_1).any(axis=1))]\n",
    "X_1 = X_1[~np.isnan(X_1).any(axis=1)]\n",
    "\n",
    "\n",
    "X_train_1, X_test_1, y_train_1, y_test_1 = train_test_split(\n",
    "    X_1, y_1, test_size=0.30, random_state=0)\n",
    "\n"
   ]
  },
  {
   "attachments": {},
   "cell_type": "markdown",
   "metadata": {},
   "source": [
    "**Load the data and split into train and text.**\n",
    "\n",
    "\n",
    "Now that the data is slited lets familiarized with our data"
   ]
  },
  {
   "cell_type": "code",
   "execution_count": 75,
   "metadata": {},
   "outputs": [
    {
     "name": "stdout",
     "output_type": "stream",
     "text": [
      "X_train shape: (376, 39)\n",
      "y_train shape: (376,)\n",
      "X_test shape: (162, 39)\n",
      "y_test shape: (162,)\n"
     ]
    }
   ],
   "source": [
    "print('X_train shape:', X_train_1.shape)\n",
    "print('y_train shape:', y_train_1.shape)\n",
    "print('X_test shape:', X_test_1.shape)\n",
    "print('y_test shape:', y_test_1.shape)"
   ]
  },
  {
   "attachments": {},
   "cell_type": "markdown",
   "metadata": {},
   "source": [
    "**Z-score normalization**"
   ]
  },
  {
   "cell_type": "code",
   "execution_count": 76,
   "metadata": {},
   "outputs": [],
   "source": [
    "train_mean_1 = np.mean(X_train_1, axis=0)\n",
    "train_std_1 = np.std(X_train_1, axis=0)\n",
    "X_train_norm_1 = (X_train_1 - train_mean_1) / train_std_1"
   ]
  },
  {
   "attachments": {},
   "cell_type": "markdown",
   "metadata": {},
   "source": [
    "Check the results of the normalization"
   ]
  },
  {
   "cell_type": "code",
   "execution_count": 77,
   "metadata": {},
   "outputs": [
    {
     "name": "stdout",
     "output_type": "stream",
     "text": [
      "Peak to peak data\n",
      "Raw: [2.80000000e+01 7.60000000e+01 4.30000000e+01 2.48773391e+01\n",
      " 7.00000000e+00 6.90000000e+01 1.20000000e+01 6.30000000e+00\n",
      " 3.00000000e+00 1.20000000e+01 3.00000000e+01 1.00000000e+00\n",
      " 5.00000000e+00 5.05179000e+03 2.01798000e+03 1.37282394e+03\n",
      " 2.20000000e+01 2.00000000e+01 1.94190476e-01 2.58700000e+01\n",
      " 6.59000000e+01 1.27840000e+02 9.00000000e+01 8.49530000e+01\n",
      " 2.90000000e+02 1.00000000e+00 1.00000000e+00 1.00000000e+00\n",
      " 1.00000000e+00 1.00000000e+00 1.00000000e+00 1.00000000e+00\n",
      " 1.28000000e+02 9.20000000e+01 2.20000000e+01 2.00000000e+01\n",
      " 2.40000000e+01 2.38300000e+01 1.80000000e+01] \n",
      "\n",
      " Normalized: [ 5.26029017  6.97781048  6.91331772  6.32415088  3.80751351 13.88255928\n",
      "  6.92808072  7.24306135  3.32226292  8.12162599  6.27626298  2.07472158\n",
      "  7.05909444 19.43335811 19.43810558 19.40361333  5.63132597  5.70837063\n",
      "  4.18444081  9.00510738 10.93350903  9.50579781  7.28146389 18.63374089\n",
      " 14.43610035  2.08119498  2.25611281  2.14524668  2.01141431  2.00002829\n",
      "  2.00002829  2.29336517 16.10644922 15.28872364  5.06261312  4.52973995\n",
      "  6.65361652  7.29390111  8.21600444]\n"
     ]
    }
   ],
   "source": [
    "print('Peak to peak data')\n",
    "print('Raw:', np.ptp(X_train_1, axis=0),'\\n\\n Normalized:', np.ptp(X_train_norm_1, axis=0))"
   ]
  },
  {
   "attachments": {},
   "cell_type": "markdown",
   "metadata": {},
   "source": [
    "Lets apply the gradient descent in the data using all the parameter in the linear form"
   ]
  },
  {
   "cell_type": "code",
   "execution_count": 78,
   "metadata": {},
   "outputs": [
    {
     "name": "stdout",
     "output_type": "stream",
     "text": [
      "Iteration    0: Cost     0.60   \n",
      "Iteration   45: Cost     0.22   \n",
      "Iteration   90: Cost     0.18   \n",
      "Iteration  135: Cost     0.17   \n",
      "Iteration  180: Cost     0.16   \n",
      "Iteration  225: Cost     0.16   \n",
      "Iteration  270: Cost     0.15   \n",
      "Iteration  315: Cost     0.15   \n",
      "Iteration  360: Cost     0.15   \n",
      "Iteration  405: Cost     0.15   \n",
      "Iteration  449: Cost     0.15   \n"
     ]
    }
   ],
   "source": [
    "w_1, b_1, J_history_1, w_history_1 = logistic_regression.gradient_descent_reg(X_train_norm_1, y_train_1, np.zeros((39,)), 0, 0.2, 450, 1e-5 )"
   ]
  },
  {
   "attachments": {},
   "cell_type": "markdown",
   "metadata": {},
   "source": [
    "Vizualization of the cost function during the gradient descent computation"
   ]
  },
  {
   "cell_type": "code",
   "execution_count": 79,
   "metadata": {},
   "outputs": [
    {
     "data": {
      "text/plain": [
       "[<matplotlib.lines.Line2D at 0x7f8ce2a0c590>]"
      ]
     },
     "execution_count": 79,
     "metadata": {},
     "output_type": "execute_result"
    },
    {
     "data": {
      "image/png": "[encoded data removed]",
      "text/plain": [
       "<Figure size 640x480 with 1 Axes>"
      ]
     },
     "metadata": {},
     "output_type": "display_data"
    }
   ],
   "source": [
    "fig, ax = plt.subplots()\n",
    "ax.plot(J_history_1)"
   ]
  },
  {
   "attachments": {},
   "cell_type": "markdown",
   "metadata": {},
   "source": [
    "Lets see the accurace of our prediction using this model.\n",
    "\n",
    "Considering accurace the percentage of correct predictions"
   ]
  },
  {
   "cell_type": "code",
   "execution_count": 80,
   "metadata": {},
   "outputs": [
    {
     "name": "stdout",
     "output_type": "stream",
     "text": [
      "Accurace before removing features: 84.0 %\n"
     ]
    }
   ],
   "source": [
    "# Normalize the test data\n",
    "X_test_norm_1 = (X_test_1 - train_mean_1) / train_std_1\n",
    "\n",
    "# Compute the accurace\n",
    "f_wb_1, g_1 = logistic_regression.predict(X_test_norm_1, w_1, b_1)\n",
    "accurace_1 = np.mean(np.where(f_wb_1 == y_test_1, 1, 0))\n",
    "print('Accurace before removing features:',round(accurace_1 ,3) * 100,'%')"
   ]
  },
  {
   "attachments": {},
   "cell_type": "markdown",
   "metadata": {},
   "source": [
    "**Positive predictive value(PPV)** is the probability that a person who test positive actually has the disease.\n",
    "The PPV is a good measure of confiability of a test, lets calculate it for the model."
   ]
  },
  {
   "cell_type": "code",
   "execution_count": 81,
   "metadata": {},
   "outputs": [
    {
     "name": "stdout",
     "output_type": "stream",
     "text": [
      "Positive predictive value: 87.2 %\n"
     ]
    }
   ],
   "source": [
    "y_test_positive_1 = y_test_1[f_wb_1 == 1]\n",
    "ppv_1 = np.mean(y_test_positive_1)\n",
    "print('Positive predictive value:',round(ppv_1,3) * 100, '%')"
   ]
  },
  {
   "attachments": {},
   "cell_type": "markdown",
   "metadata": {},
   "source": [
    "**Negative predictive value (NPV)** is the probability that a person who test negative actually not having the disease"
   ]
  },
  {
   "cell_type": "code",
   "execution_count": 101,
   "metadata": {},
   "outputs": [
    {
     "name": "stdout",
     "output_type": "stream",
     "text": [
      "Negative predictive value: 82.6 %\n"
     ]
    }
   ],
   "source": [
    "y_test_negative_1 = y_test_1[f_wb_1 == 0]\n",
    "npv_1 = np.mean(1 - y_test_negative_1)\n",
    "print('Negative predictive value:',round(npv_1, 3) * 100, '%')"
   ]
  },
  {
   "attachments": {},
   "cell_type": "markdown",
   "metadata": {},
   "source": [
    "**Linear model with all the parameter conclusion**\n",
    "\n",
    "As shown above, the model using all the parameters and just linear components have a low accurace of just 0.44, lets study the parameter to increase the prediction accurace.\n",
    "\n",
    "## Feature analysis for best fit\n",
    "Lets see the features used in our prediction:"
   ]
  },
  {
   "cell_type": "code",
   "execution_count": 82,
   "metadata": {},
   "outputs": [
    {
     "name": "stdout",
     "output_type": "stream",
     "text": [
      "['PCOS (Y/N)', ' Age (yrs)', 'Weight (Kg)', 'Height(Cm) ', 'BMI', 'Blood Group', 'Pulse rate(bpm) ', 'RR (breaths/min)', 'Hb(g/dl)', 'Cycle(R/I)', 'Cycle length(days)', 'Marraige Status (Yrs)', 'Pregnant(Y/N)', 'No. of aborptions', 'FSH(mIU/mL)', 'LH(mIU/mL)', 'FSH/LH', 'Hip(inch)', 'Waist(inch)', 'Waist:Hip Ratio', 'TSH (mIU/L)', 'AMH(ng/mL)', 'PRL(ng/mL)', 'Vit D3 (ng/mL)', 'PRG(ng/mL)', 'RBS(mg/dl)', 'Weight gain(Y/N)', 'hair growth(Y/N)', 'Skin darkening (Y/N)', 'Hair loss(Y/N)', 'Pimples(Y/N)', 'Fast food (Y/N)', 'Reg.Exercise(Y/N)', 'BP _Systolic (mmHg)', 'BP _Diastolic (mmHg)', 'Follicle No. (L)', 'Follicle No. (R)', 'Avg. F size (L) (mm)', 'Avg. F size (R) (mm)', 'Endometrium (mm)']\n"
     ]
    }
   ],
   "source": [
    "header = [element for element in header_raw if element not in header_del_elements_1]\n",
    "print(header)"
   ]
  },
  {
   "attachments": {},
   "cell_type": "markdown",
   "metadata": {},
   "source": [
    "We can see that some of the data have clear no correlation with the study, so lets remove the following:\n",
    "* Age (1)\n",
    "* Pulse rate (7)\n",
    "* RR\n",
    "* Marraige Status\n",
    "\n",
    "Data remove because of correlation:\n",
    "* BMI\n",
    "  * Weight\n",
    "  * Height\n",
    "* Hip Ratio\n",
    "  * Hip\n",
    "  * Waist\n",
    "\n",
    "**Removing the data**"
   ]
  },
  {
   "cell_type": "code",
   "execution_count": 113,
   "metadata": {},
   "outputs": [
    {
     "name": "stdout",
     "output_type": "stream",
     "text": [
      "Iteration    0: Cost     1.18   \n",
      "Iteration 2000: Cost     0.32   \n",
      "Iteration 4000: Cost     0.30   \n",
      "Iteration 6000: Cost     0.29   \n",
      "Iteration 8000: Cost     0.28   \n",
      "Iteration 10000: Cost     0.27   \n",
      "Iteration 12000: Cost     0.27   \n",
      "Iteration 14000: Cost     0.27   \n",
      "Iteration 16000: Cost     0.26   \n",
      "Iteration 18000: Cost     0.26   \n",
      "Iteration 19999: Cost     0.26   \n"
     ]
    }
   ],
   "source": [
    "# Creating parameter for a new model\n",
    "header_del_elements_2 = ['Sl. No', 'Patient File No.',' Age (yrs)', 'Pulse rate(bpm) ',\n",
    "'RR (breaths/min)', 'Marraige Status (Yrs)','Weight (Kg)', 'Height(Cm) ', 'Hip(inch)', \n",
    "'Waist(inch)',\n",
    " 'Fast food (Y/N)', 'Reg.Exercise(Y/N)','Blood Group',\n",
    "'Vit D3 (ng/mL)','Skin darkening (Y/N)','Blood Group']\n",
    "\n",
    "data_model_2 = data.copy()\n",
    "data_model_2.drop(columns=header_del_elements_2, inplace=True)\n",
    "\n",
    "# Convert to numpy array\n",
    "data_model_2 = data_model_2.to_numpy()\n",
    "\n",
    "y_2 = data_model_2[:, 0]\n",
    "X_2 = data_model_2[:, 1:]\n",
    "\n",
    "# Remove nan values from the data\n",
    "y_2 = y_2[np.squeeze(~np.isnan(X_2).any(axis=1))]\n",
    "X_2 = X_2[~np.isnan(X_2).any(axis=1)]\n",
    "\n",
    "# Split the data in train and test\n",
    "X_train_2, X_test_2, y_train_2, y_test_2 = train_test_split(\n",
    "    X_2, y_2, test_size=0.30, random_state=0)\n",
    "\n",
    "\n",
    "# Normalize \n",
    "train_mean_2 = np.mean(X_train_2)\n",
    "train_std_2 = np.std(X_train_2)\n",
    "\n",
    "X_train_norm_2 = (X_train_2 - train_mean_2)/train_std_2\n",
    "\n",
    "# Apply gradient descent\n",
    "w_2, b_2, J_history_2, w_history_2  = logistic_regression.gradient_descent_reg(X_train_norm_2, y_train_2, \n",
    "np.zeros((X_train_norm_2.shape[1],)),0, 3, 20000, 1e-6)\n",
    "\n"
   ]
  },
  {
   "attachments": {},
   "cell_type": "markdown",
   "metadata": {},
   "source": [
    "**Accurace**"
   ]
  },
  {
   "cell_type": "code",
   "execution_count": 114,
   "metadata": {},
   "outputs": [
    {
     "name": "stdout",
     "output_type": "stream",
     "text": [
      "Accurace after removing features: 85.8 %\n"
     ]
    }
   ],
   "source": [
    "# Normalize the test data\n",
    "X_test_norm_2 = (X_test_2 - train_mean_2) / train_std_2\n",
    "\n",
    "# Compute the accurace\n",
    "f_wb_2, g_2 = logistic_regression.predict(X_test_norm_2, w_2, b_2)\n",
    "accurace_2 = np.mean(np.where(f_wb_2 == y_test_2, 1, 0))\n",
    "print('Accurace after removing features:',round(accurace_2, 3) * 100,'%')\n"
   ]
  },
  {
   "attachments": {},
   "cell_type": "markdown",
   "metadata": {},
   "source": [
    "**Positive predictive value(PPV)** "
   ]
  },
  {
   "cell_type": "code",
   "execution_count": 115,
   "metadata": {},
   "outputs": [
    {
     "name": "stdout",
     "output_type": "stream",
     "text": [
      "Positive predictive value: 92.7 %\n"
     ]
    }
   ],
   "source": [
    "y_test_positive_2 = y_test_2[f_wb_2 == 1]\n",
    "ppv_2 = np.mean(y_test_positive_2)\n",
    "print('Positive predictive value:',round(ppv_2,3) * 100, '%')"
   ]
  },
  {
   "attachments": {},
   "cell_type": "markdown",
   "metadata": {},
   "source": [
    "**Negative predictive value**"
   ]
  },
  {
   "cell_type": "code",
   "execution_count": 116,
   "metadata": {},
   "outputs": [
    {
     "name": "stdout",
     "output_type": "stream",
     "text": [
      "Negative predictive value: 83.5 %\n"
     ]
    }
   ],
   "source": [
    "y_test_negative_2 = y_test_2[f_wb_2 == 0]\n",
    "npv_2 = np.mean(1 - y_test_negative_2)\n",
    "print('Negative predictive value:',round(npv_2, 3) * 100, '%')"
   ]
  }
 ],
 "metadata": {
  "kernelspec": {
   "display_name": "ML",
   "language": "python",
   "name": "python3"
  },
  "language_info": {
   "codemirror_mode": {
    "name": "ipython",
    "version": 3
   },
   "file_extension": ".py",
   "mimetype": "text/x-python",
   "name": "python",
   "nbconvert_exporter": "python",
   "pygments_lexer": "ipython3",
   "version": "3.11.0"
  },
  "orig_nbformat": 4
 },
 "nbformat": 4,
 "nbformat_minor": 2
}
